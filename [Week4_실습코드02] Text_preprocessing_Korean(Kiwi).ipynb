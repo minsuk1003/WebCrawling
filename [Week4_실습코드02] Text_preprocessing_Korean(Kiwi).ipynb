{
 "cells": [
  {
   "cell_type": "markdown",
   "id": "616c0536",
   "metadata": {},
   "source": [
    "## 키위 형태소 분석기 설치하기"
   ]
  },
  {
   "cell_type": "code",
   "execution_count": null,
   "id": "931a5c01",
   "metadata": {},
   "outputs": [],
   "source": [
    "# # 설치가 안되었을 때만 아래 코드가 실행되게 해주세요.\n",
    "# !pip install kiwipiepy"
   ]
  },
  {
   "cell_type": "code",
   "execution_count": 1,
   "id": "7526e88c",
   "metadata": {},
   "outputs": [
    {
     "name": "stdout",
     "output_type": "stream",
     "text": [
      "Requirement already satisfied: kiwipiepy in c:\\users\\kms10\\anaconda3\\lib\\site-packages (0.16.0)\n",
      "Requirement already satisfied: kiwipiepy-model~=0.16 in c:\\users\\kms10\\anaconda3\\lib\\site-packages (from kiwipiepy) (0.16.0)\n",
      "Requirement already satisfied: numpy in c:\\users\\kms10\\anaconda3\\lib\\site-packages (from kiwipiepy) (1.23.5)\n",
      "Requirement already satisfied: tqdm in c:\\users\\kms10\\anaconda3\\lib\\site-packages (from kiwipiepy) (4.64.1)\n",
      "Requirement already satisfied: colorama in c:\\users\\kms10\\anaconda3\\lib\\site-packages (from tqdm->kiwipiepy) (0.4.6)\n"
     ]
    }
   ],
   "source": [
    "!pip install kiwipiepy"
   ]
  },
  {
   "cell_type": "markdown",
   "id": "23142869",
   "metadata": {},
   "source": [
    "## 키위 형태소 분석기가 잘 설치되었는지 테스트를 해봅시다"
   ]
  },
  {
   "cell_type": "code",
   "execution_count": 1,
   "id": "6c2f60ef",
   "metadata": {},
   "outputs": [
    {
     "ename": "ModuleNotFoundError",
     "evalue": "No module named 'kiwipiepy'",
     "output_type": "error",
     "traceback": [
      "\u001b[1;31m---------------------------------------------------------------------------\u001b[0m",
      "\u001b[1;31mModuleNotFoundError\u001b[0m                       Traceback (most recent call last)",
      "Cell \u001b[1;32mIn[1], line 1\u001b[0m\n\u001b[1;32m----> 1\u001b[0m \u001b[38;5;28;01mfrom\u001b[39;00m \u001b[38;5;21;01mkiwipiepy\u001b[39;00m \u001b[38;5;28;01mimport\u001b[39;00m Kiwi\n",
      "\u001b[1;31mModuleNotFoundError\u001b[0m: No module named 'kiwipiepy'"
     ]
    }
   ],
   "source": [
    "from kiwipiepy import Kiwi"
   ]
  },
  {
   "cell_type": "code",
   "execution_count": 73,
   "id": "9fc9789b",
   "metadata": {},
   "outputs": [],
   "source": [
    "kiwi = Kiwi()"
   ]
  },
  {
   "cell_type": "markdown",
   "id": "f212f1f9",
   "metadata": {},
   "source": [
    "# 한글 형태소 분석기 예제"
   ]
  },
  {
   "cell_type": "code",
   "execution_count": 18,
   "id": "676bfaaa",
   "metadata": {},
   "outputs": [],
   "source": [
    "my_str = \"\"\"\n",
    "생각이 많은 건 말이야.\n",
    "당연히 해야 할 일이야.\n",
    "나에겐 우리가 지금 1순위야.\n",
    "안전한 유리병을 핑계로\n",
    "바람을 가둬 둔 것 같지만.\n",
    "기억나? 그날의 우리가\n",
    "잡았던 그 손엔 말이야.\n",
    "설레임보다 커다란 믿음이 담겨서\n",
    "난 함박웃음을 지었지만\n",
    "울음이 날 것도 같았어.\n",
    "소중한 건 언제나 두려움이니까.\n",
    "문을 열면 들리던 목소리.\n",
    "너로 인해 변해있던 따뜻한 공기.\n",
    "여전히 자신 없지만 안녕히.\n",
    "저기, 사라진 별의 자리\n",
    "아스라이 하얀 빛\n",
    "한동안은 꺼내 볼 수 있을 거야.\n",
    "아낌없이 반짝인 시간은\n",
    "조금씩 옅어져 가더라도\n",
    "너와 내 맘에 살아 숨 쉴 테니.\n",
    "여긴, 서로의 끝이 아닌\n",
    "새로운 길 모퉁이.\n",
    "익숙함에 진심을 속이지 말자.\n",
    "하나 둘 추억이 떠오르면\n",
    "많이 많이 그리워할 거야.\n",
    "고마웠어요 그래도 이제는\n",
    "사건의 지평선 너머로.\n",
    "\"\"\""
   ]
  },
  {
   "cell_type": "code",
   "execution_count": 19,
   "id": "11582223",
   "metadata": {},
   "outputs": [
    {
     "data": {
      "text/plain": [
       "'\\n생각이 많은 건 말이야.\\n당연히 해야 할 일이야.\\n나에겐 우리가 지금 1순위야.\\n안전한 유리병을 핑계로\\n바람을 가둬 둔 것 같지만.\\n기억나? 그날의 우리가\\n잡았던 그 손엔 말이야.\\n설레임보다 커다란 믿음이 담겨서\\n난 함박웃음을 지었지만\\n울음이 날 것도 같았어.\\n소중한 건 언제나 두려움이니까.\\n문을 열면 들리던 목소리.\\n너로 인해 변해있던 따뜻한 공기.\\n여전히 자신 없지만 안녕히.\\n저기, 사라진 별의 자리\\n아스라이 하얀 빛\\n한동안은 꺼내 볼 수 있을 거야.\\n아낌없이 반짝인 시간은\\n조금씩 옅어져 가더라도\\n너와 내 맘에 살아 숨 쉴 테니.\\n여긴, 서로의 끝이 아닌\\n새로운 길 모퉁이.\\n익숙함에 진심을 속이지 말자.\\n하나 둘 추억이 떠오르면\\n많이 많이 그리워할 거야.\\n고마웠어요 그래도 이제는\\n사건의 지평선 너머로.\\n'"
      ]
     },
     "execution_count": 19,
     "metadata": {},
     "output_type": "execute_result"
    }
   ],
   "source": [
    "my_str"
   ]
  },
  {
   "cell_type": "code",
   "execution_count": 20,
   "id": "8dd8b55d",
   "metadata": {},
   "outputs": [
    {
     "name": "stdout",
     "output_type": "stream",
     "text": [
      "사건의 지평선 너머로\n",
      " 시간의 지평선 너머로 \n"
     ]
    }
   ],
   "source": [
    "## strip(): 문자열 앞 뒤의 공백을 제거한다.\n",
    "## replace(a,b) : a를 b로 치환한다.\n",
    "\n",
    "var = ' 사건의 지평선 너머로 '\n",
    "result1 = var.strip()\n",
    "result2 = var.replace('사건의', '시간의')\n",
    "print(result1)\n",
    "print(result2)"
   ]
  },
  {
   "cell_type": "code",
   "execution_count": 21,
   "id": "6b0ad834",
   "metadata": {},
   "outputs": [
    {
     "data": {
      "text/plain": [
       "'생각이 많은 건 말이야. 당연히 해야 할 일이야. 나에겐 우리가 지금 1순위야. 안전한 유리병을 핑계로 바람을 가둬 둔 것 같지만. 기억나? 그날의 우리가 잡았던 그 손엔 말이야. 설레임보다 커다란 믿음이 담겨서 난 함박웃음을 지었지만 울음이 날 것도 같았어. 소중한 건 언제나 두려움이니까. 문을 열면 들리던 목소리. 너로 인해 변해있던 따뜻한 공기. 여전히 자신 없지만 안녕히. 저기, 사라진 별의 자리 아스라이 하얀 빛 한동안은 꺼내 볼 수 있을 거야. 아낌없이 반짝인 시간은 조금씩 옅어져 가더라도 너와 내 맘에 살아 숨 쉴 테니. 여긴, 서로의 끝이 아닌 새로운 길 모퉁이. 익숙함에 진심을 속이지 말자. 하나 둘 추억이 떠오르면 많이 많이 그리워할 거야. 고마웠어요 그래도 이제는 사건의 지평선 너머로.'"
      ]
     },
     "execution_count": 21,
     "metadata": {},
     "output_type": "execute_result"
    }
   ],
   "source": [
    "## replace('\\n', ' '): 줄바꿈문자(\\n)을 빈칸으로 치환\n",
    "## strip(): 문자열의 전후로 존재하는 공백을 제거\n",
    "my_str = my_str.replace('\\n',' ').strip()\n",
    "my_str"
   ]
  },
  {
   "cell_type": "markdown",
   "id": "8951af88",
   "metadata": {},
   "source": [
    "## 1. Tokenization"
   ]
  },
  {
   "cell_type": "markdown",
   "id": "a7a1c0ae",
   "metadata": {},
   "source": [
    "### (1) 문장 토큰화: split_into_sents()"
   ]
  },
  {
   "cell_type": "code",
   "execution_count": 22,
   "id": "5182fdd6",
   "metadata": {},
   "outputs": [
    {
     "data": {
      "text/plain": [
       "[Sentence(text='생각이 많은 건 말이야.', start=0, end=13, tokens=None, subs=[]),\n",
       " Sentence(text='당연히 해야 할 일이야.', start=14, end=27, tokens=None, subs=[]),\n",
       " Sentence(text='나에겐 우리가 지금 1순위야.', start=28, end=44, tokens=None, subs=[]),\n",
       " Sentence(text='안전한 유리병을 핑계로 바람을 가둬 둔 것 같지만.', start=45, end=73, tokens=None, subs=[]),\n",
       " Sentence(text='기억나?', start=74, end=78, tokens=None, subs=[]),\n",
       " Sentence(text='그날의 우리가 잡았던 그 손엔 말이야.', start=79, end=100, tokens=None, subs=[]),\n",
       " Sentence(text='설레임보다 커다란 믿음이 담겨서 난 함박웃음을 지었지만 울음이 날 것도 같았어.', start=101, end=145, tokens=None, subs=[]),\n",
       " Sentence(text='소중한 건 언제나 두려움이니까.', start=146, end=163, tokens=None, subs=[]),\n",
       " Sentence(text='문을 열면 들리던 목소리.', start=164, end=178, tokens=None, subs=[]),\n",
       " Sentence(text='너로 인해 변해있던 따뜻한 공기.', start=179, end=197, tokens=None, subs=[]),\n",
       " Sentence(text='여전히 자신 없지만 안녕히.', start=198, end=213, tokens=None, subs=[]),\n",
       " Sentence(text='저기, 사라진 별의 자리 아스라이 하얀 빛 한동안은 꺼내 볼 수 있을 거야.', start=214, end=256, tokens=None, subs=[]),\n",
       " Sentence(text='아낌없이 반짝인 시간은 조금씩 옅어져 가더라도 너와 내 맘에 살아 숨 쉴 테니.', start=257, end=301, tokens=None, subs=[]),\n",
       " Sentence(text='여긴, 서로의 끝이 아닌 새로운 길 모퉁이.', start=302, end=326, tokens=None, subs=[]),\n",
       " Sentence(text='익숙함에 진심을 속이지 말자.', start=327, end=343, tokens=None, subs=[]),\n",
       " Sentence(text='하나 둘 추억이 떠오르면 많이 많이 그리워할 거야.', start=344, end=372, tokens=None, subs=[]),\n",
       " Sentence(text='고마웠어요', start=373, end=378, tokens=None, subs=[]),\n",
       " Sentence(text='그래도 이제는 사건의 지평선 너머로.', start=379, end=399, tokens=None, subs=[])]"
      ]
     },
     "execution_count": 22,
     "metadata": {},
     "output_type": "execute_result"
    }
   ],
   "source": [
    "## 거의 대부분 문장 분리 기호(.? 등)를 기준으로 분리\n",
    "## 그러나, 고마웠어요 같이 문장 분리 기호가 없어도 분리하는 경우도 존재\n",
    "kiwi.split_into_sents(my_str)"
   ]
  },
  {
   "cell_type": "markdown",
   "id": "010d3aa2",
   "metadata": {},
   "source": [
    "## (2) 단어 토큰화\n",
    "\n",
    "- <span style = 'font-size:1.2em;line-height:1.5em'>한국어에서 word tokenization은 형태소 분석과 거의 동일한 행위</span>"
   ]
  },
  {
   "cell_type": "markdown",
   "id": "c6eab42d",
   "metadata": {},
   "source": [
    "### tokenize() 함수로 단어 토큰화하기"
   ]
  },
  {
   "cell_type": "code",
   "execution_count": 5,
   "id": "9c6f03f8",
   "metadata": {},
   "outputs": [
    {
     "data": {
      "text/plain": [
       "[Token(form='안녕하세요', tag='NNP', start=0, len=5),\n",
       " Token(form='형태소', tag='NNG', start=6, len=3),\n",
       " Token(form='분석기', tag='NNG', start=10, len=3),\n",
       " Token(form='키위', tag='NNG', start=14, len=2),\n",
       " Token(form='이', tag='VCP', start=16, len=1),\n",
       " Token(form='ᆸ니다', tag='EF', start=16, len=3),\n",
       " Token(form='.', tag='SF', start=19, len=1)]"
      ]
     },
     "execution_count": 5,
     "metadata": {},
     "output_type": "execute_result"
    }
   ],
   "source": [
    "kiwi.tokenize('안녕하세요 형태소 분석기 키위입니다.')"
   ]
  },
  {
   "cell_type": "markdown",
   "id": "1bf52e52",
   "metadata": {},
   "source": [
    "#### normalize_coda: 덧붙은 받침 때문에 분석이 깨지는 경우를 방지"
   ]
  },
  {
   "cell_type": "code",
   "execution_count": 46,
   "id": "fca10cbc",
   "metadata": {},
   "outputs": [
    {
     "data": {
      "text/plain": [
       "[Token(form='ㅋㅋㅋ', tag='SW', start=0, len=3),\n",
       " Token(form='이런', tag='MM', start=4, len=2),\n",
       " Token(form='것', tag='NNB', start=7, len=1),\n",
       " Token(form='도', tag='JX', start=8, len=1),\n",
       " Token(form='분석', tag='NNG', start=10, len=2),\n",
       " Token(form='이', tag='JKC', start=12, len=1),\n",
       " Token(form='되', tag='VV', start=14, len=1),\n",
       " Token(form='ᆯ까요', tag='EF', start=14, len=3),\n",
       " Token(form='ㅋㅋㅋ', tag='SW', start=16, len=3),\n",
       " Token(form='?', tag='SF', start=19, len=1)]"
      ]
     },
     "execution_count": 46,
     "metadata": {},
     "output_type": "execute_result"
    }
   ],
   "source": [
    "kiwi.tokenize(\"ㅋㅋㅋ 이런 것도 분석이 될까욬ㅋㅋ?\", normalize_coda=True)"
   ]
  },
  {
   "cell_type": "markdown",
   "id": "6fe41004",
   "metadata": {},
   "source": [
    "#### token이 가지고 있는 정보"
   ]
  },
  {
   "cell_type": "code",
   "execution_count": 47,
   "id": "2830dcc6",
   "metadata": {},
   "outputs": [],
   "source": [
    "tokens = kiwi.tokenize('안녕하세요 형태소 분석기 키위입니다.')"
   ]
  },
  {
   "cell_type": "code",
   "execution_count": 48,
   "id": "3c59121e",
   "metadata": {},
   "outputs": [
    {
     "data": {
      "text/plain": [
       "Token(form='안녕하세요', tag='NNP', start=0, len=5)"
      ]
     },
     "execution_count": 48,
     "metadata": {},
     "output_type": "execute_result"
    }
   ],
   "source": [
    "tokens[0] "
   ]
  },
  {
   "cell_type": "code",
   "execution_count": 49,
   "id": "8cd8db13",
   "metadata": {},
   "outputs": [
    {
     "data": {
      "text/plain": [
       "'안녕하세요'"
      ]
     },
     "execution_count": 49,
     "metadata": {},
     "output_type": "execute_result"
    }
   ],
   "source": [
    "tokens[0].form # 형태소의 형태 정보"
   ]
  },
  {
   "cell_type": "code",
   "execution_count": 50,
   "id": "8fb81793",
   "metadata": {},
   "outputs": [
    {
     "data": {
      "text/plain": [
       "'NNP'"
      ]
     },
     "execution_count": 50,
     "metadata": {},
     "output_type": "execute_result"
    }
   ],
   "source": [
    "tokens[0].tag # 형태소의 품사 정보"
   ]
  },
  {
   "cell_type": "code",
   "execution_count": 51,
   "id": "f5065266",
   "metadata": {},
   "outputs": [
    {
     "data": {
      "text/plain": [
       "0"
      ]
     },
     "execution_count": 51,
     "metadata": {},
     "output_type": "execute_result"
    }
   ],
   "source": [
    "tokens[0].start # 시작 지점 (문자 단위)"
   ]
  },
  {
   "cell_type": "code",
   "execution_count": 52,
   "id": "93ff5010",
   "metadata": {},
   "outputs": [
    {
     "data": {
      "text/plain": [
       "5"
      ]
     },
     "execution_count": 52,
     "metadata": {},
     "output_type": "execute_result"
    }
   ],
   "source": [
    "tokens[0].end # 끝 지점 (문자 단위)"
   ]
  },
  {
   "cell_type": "code",
   "execution_count": 53,
   "id": "2c4c6ed0",
   "metadata": {},
   "outputs": [
    {
     "data": {
      "text/plain": [
       "0"
      ]
     },
     "execution_count": 53,
     "metadata": {},
     "output_type": "execute_result"
    }
   ],
   "source": [
    "tokens[0].word_position # 현 문장에서의 어절 번호"
   ]
  },
  {
   "cell_type": "code",
   "execution_count": 54,
   "id": "94f06f1b",
   "metadata": {},
   "outputs": [
    {
     "data": {
      "text/plain": [
       "0"
      ]
     },
     "execution_count": 54,
     "metadata": {},
     "output_type": "execute_result"
    }
   ],
   "source": [
    "tokens[0].sent_position # 형태소가 속한 문장 번호"
   ]
  },
  {
   "cell_type": "code",
   "execution_count": 55,
   "id": "7479de10",
   "metadata": {},
   "outputs": [
    {
     "data": {
      "text/plain": [
       "0"
      ]
     },
     "execution_count": 55,
     "metadata": {},
     "output_type": "execute_result"
    }
   ],
   "source": [
    "tokens[0].line_number # 형태소가 속한 줄의 번호"
   ]
  },
  {
   "cell_type": "markdown",
   "id": "52fc4d13",
   "metadata": {},
   "source": [
    "### tag에 대한 자세한 내용은 다음 사이트를 참고하세요.\n",
    "https://github.com/bab2min/kiwipiepy"
   ]
  },
  {
   "cell_type": "markdown",
   "id": "781c23fb",
   "metadata": {},
   "source": [
    "## (3) Stopword removal"
   ]
  },
  {
   "cell_type": "code",
   "execution_count": 35,
   "id": "54e726f4",
   "metadata": {},
   "outputs": [],
   "source": [
    "## kiwi에서 관리하고 있는 stopword list\n",
    "from kiwipiepy.utils import Stopwords"
   ]
  },
  {
   "cell_type": "code",
   "execution_count": 71,
   "id": "30aad491",
   "metadata": {},
   "outputs": [],
   "source": [
    "stopwords = Stopwords()"
   ]
  },
  {
   "cell_type": "markdown",
   "id": "e4e340dc",
   "metadata": {},
   "source": [
    "### 어떤 stopword들이 있는지 봅시다"
   ]
  },
  {
   "cell_type": "code",
   "execution_count": 38,
   "id": "b98e4cd5",
   "metadata": {
    "scrolled": true
   },
   "outputs": [
    {
     "data": {
      "text/plain": [
       "{('ᆫ', 'ETM'),\n",
       " ('ᆫ', 'JX'),\n",
       " ('ᆫ다', 'EF'),\n",
       " ('ᆯ', 'ETM'),\n",
       " ('가', 'JKS'),\n",
       " ('같', 'VA'),\n",
       " ('것', 'NNB'),\n",
       " ('게', 'EC'),\n",
       " ('겠', 'EP'),\n",
       " ('고', 'EC'),\n",
       " ('고', 'JKQ'),\n",
       " ('과', 'JC'),\n",
       " ('과', 'JKB'),\n",
       " ('그', 'MM'),\n",
       " ('그', 'NP'),\n",
       " ('기', 'ETN'),\n",
       " ('까지', 'JX'),\n",
       " ('나', 'NP'),\n",
       " ('년', 'NNB'),\n",
       " ('는', 'ETM'),\n",
       " ('는', 'JX'),\n",
       " ('다', 'EC'),\n",
       " ('다', 'EF'),\n",
       " ('다고', 'EC'),\n",
       " ('다는', 'ETM'),\n",
       " ('대하', 'VV'),\n",
       " ('더', 'MAG'),\n",
       " ('던', 'ETM'),\n",
       " ('도', 'JX'),\n",
       " ('되', 'VV'),\n",
       " ('되', 'XSV'),\n",
       " ('들', 'XSN'),\n",
       " ('등', 'NNB'),\n",
       " ('따르', 'VV'),\n",
       " ('때', 'NNG'),\n",
       " ('때문', 'NNB'),\n",
       " ('라', 'EC'),\n",
       " ('라는', 'ETM'),\n",
       " ('로', 'JKB'),\n",
       " ('를', 'JKO'),\n",
       " ('만', 'JX'),\n",
       " ('만', 'NR'),\n",
       " ('말', 'NNG'),\n",
       " ('며', 'EC'),\n",
       " ('면', 'EC'),\n",
       " ('면서', 'EC'),\n",
       " ('명', 'NNB'),\n",
       " ('받', 'VV'),\n",
       " ('보', 'VV'),\n",
       " ('부터', 'JX'),\n",
       " ('사람', 'NNG'),\n",
       " ('성', 'XSN'),\n",
       " ('수', 'NNB'),\n",
       " ('아니', 'VCN'),\n",
       " ('않', 'VX'),\n",
       " ('어', 'EC'),\n",
       " ('어', 'EF'),\n",
       " ('어서', 'EC'),\n",
       " ('어야', 'EC'),\n",
       " ('없', 'VA'),\n",
       " ('었', 'EP'),\n",
       " ('에', 'JKB'),\n",
       " ('에게', 'JKB'),\n",
       " ('에서', 'JKB'),\n",
       " ('와', 'JC'),\n",
       " ('와', 'JKB'),\n",
       " ('우리', 'NP'),\n",
       " ('원', 'NNB'),\n",
       " ('월', 'NNB'),\n",
       " ('위하', 'VV'),\n",
       " ('으로', 'JKB'),\n",
       " ('은', 'ETM'),\n",
       " ('은', 'JX'),\n",
       " ('을', 'ETM'),\n",
       " ('을', 'JKO'),\n",
       " ('의', 'JKG'),\n",
       " ('이', 'JKC'),\n",
       " ('이', 'JKS'),\n",
       " ('이', 'MM'),\n",
       " ('이', 'NP'),\n",
       " ('이', 'VCP'),\n",
       " ('일', 'NNB'),\n",
       " ('일', 'NNG'),\n",
       " ('있', 'VV'),\n",
       " ('있', 'VX'),\n",
       " ('적', 'XSN'),\n",
       " ('제', 'XPN'),\n",
       " ('주', 'VX'),\n",
       " ('중', 'NNB'),\n",
       " ('지', 'EC'),\n",
       " ('지', 'VX'),\n",
       " ('지만', 'EC'),\n",
       " ('지역', 'NNG'),\n",
       " ('통하', 'VV'),\n",
       " ('하', 'VV'),\n",
       " ('하', 'VX'),\n",
       " ('하', 'XSA'),\n",
       " ('하', 'XSV'),\n",
       " ('한', 'MM'),\n",
       " ('화', 'XSN')}"
      ]
     },
     "execution_count": 38,
     "metadata": {},
     "output_type": "execute_result"
    }
   ],
   "source": [
    "stopwords.stopwords"
   ]
  },
  {
   "cell_type": "markdown",
   "id": "26195b36",
   "metadata": {},
   "source": [
    "### 분석 결과에서 불용어만 제외하고 출력할 수도 있습니다"
   ]
  },
  {
   "cell_type": "code",
   "execution_count": 40,
   "id": "733f17a9",
   "metadata": {
    "scrolled": true
   },
   "outputs": [
    {
     "data": {
      "text/plain": [
       "[Token(form='분석', tag='NNG', start=0, len=2),\n",
       " Token(form='결과', tag='NNG', start=3, len=2),\n",
       " Token(form='에서', tag='JKB', start=5, len=2),\n",
       " Token(form='불', tag='NNG', start=8, len=1),\n",
       " Token(form='용어', tag='NNG', start=9, len=2),\n",
       " Token(form='만', tag='JX', start=11, len=1),\n",
       " Token(form='제외', tag='NNG', start=13, len=2),\n",
       " Token(form='하', tag='XSV', start=15, len=1),\n",
       " Token(form='고', tag='EC', start=16, len=1),\n",
       " Token(form='출력', tag='NNG', start=18, len=2),\n",
       " Token(form='하', tag='XSV', start=20, len=1),\n",
       " Token(form='ᆯ', tag='ETM', start=20, len=1),\n",
       " Token(form='수', tag='NNB', start=22, len=1),\n",
       " Token(form='도', tag='JX', start=23, len=1),\n",
       " Token(form='있', tag='VA', start=25, len=1),\n",
       " Token(form='다', tag='EF', start=26, len=1),\n",
       " Token(form='.', tag='SF', start=27, len=1)]"
      ]
     },
     "execution_count": 40,
     "metadata": {},
     "output_type": "execute_result"
    }
   ],
   "source": [
    "### 불용어 미제거\n",
    "kiwi.tokenize(\"분석 결과에서 불용어만 제외하고 출력할 수도 있다.\")"
   ]
  },
  {
   "cell_type": "code",
   "execution_count": 41,
   "id": "1246bf24",
   "metadata": {},
   "outputs": [
    {
     "data": {
      "text/plain": [
       "[Token(form='분석', tag='NNG', start=0, len=2),\n",
       " Token(form='결과', tag='NNG', start=3, len=2),\n",
       " Token(form='불', tag='NNG', start=8, len=1),\n",
       " Token(form='용어', tag='NNG', start=9, len=2),\n",
       " Token(form='제외', tag='NNG', start=13, len=2),\n",
       " Token(form='출력', tag='NNG', start=18, len=2),\n",
       " Token(form='있', tag='VA', start=25, len=1)]"
      ]
     },
     "execution_count": 41,
     "metadata": {},
     "output_type": "execute_result"
    }
   ],
   "source": [
    "### 불용어 제거 후\n",
    "kiwi.tokenize(\"분석 결과에서 불용어만 제외하고 출력할 수도 있다.\", stopwords=stopwords)"
   ]
  },
  {
   "cell_type": "markdown",
   "id": "5778598d",
   "metadata": {},
   "source": [
    "### 불용어를 추가하거나 제거할 수도 있습니다."
   ]
  },
  {
   "cell_type": "code",
   "execution_count": 42,
   "id": "6823aa8e",
   "metadata": {},
   "outputs": [
    {
     "data": {
      "text/plain": [
       "[Token(form='분석', tag='NNG', start=0, len=2),\n",
       " Token(form='불', tag='NNG', start=8, len=1),\n",
       " Token(form='용어', tag='NNG', start=9, len=2),\n",
       " Token(form='제외', tag='NNG', start=13, len=2),\n",
       " Token(form='출력', tag='NNG', start=18, len=2),\n",
       " Token(form='있', tag='VA', start=25, len=1)]"
      ]
     },
     "execution_count": 42,
     "metadata": {},
     "output_type": "execute_result"
    }
   ],
   "source": [
    "### 결과라는 단어를 불용어로 추가한 후\n",
    "stopwords.add(('결과', 'NNG'))\n",
    "kiwi.tokenize(\"분석 결과에서 불용어만 제외하고 출력할 수도 있다.\", stopwords=stopwords)"
   ]
  },
  {
   "cell_type": "markdown",
   "id": "d2d9cc6b",
   "metadata": {},
   "source": [
    "### 문장 토큰화와 단어 토큰화를 동시에 진행할 수도 있습니다."
   ]
  },
  {
   "cell_type": "code",
   "execution_count": 56,
   "id": "cccb153e",
   "metadata": {},
   "outputs": [
    {
     "data": {
      "text/plain": [
       "[Sentence(text='여러 문장으로 구성된 텍스트네', start=0, end=16, tokens=[Token(form='여러', tag='MM', start=0, len=2), Token(form='문장', tag='NNG', start=3, len=2), Token(form='으로', tag='JKB', start=5, len=2), Token(form='구성', tag='NNG', start=8, len=2), Token(form='되', tag='XSV', start=10, len=1), Token(form='ᆫ', tag='ETM', start=10, len=1), Token(form='텍스트', tag='NNG', start=12, len=3), Token(form='이', tag='VCP', start=15, len=0), Token(form='네', tag='EF', start=15, len=1)], subs=[]),\n",
       " Sentence(text='이걸 분리해줘', start=17, end=24, tokens=[Token(form='이거', tag='NP', start=17, len=2), Token(form='ᆯ', tag='JKO', start=18, len=1), Token(form='분리', tag='NNG', start=20, len=2), Token(form='하', tag='XSV', start=22, len=1), Token(form='어', tag='EC', start=22, len=1), Token(form='주', tag='VX', start=23, len=1), Token(form='어', tag='EF', start=23, len=1)], subs=[])]"
      ]
     },
     "execution_count": 56,
     "metadata": {},
     "output_type": "execute_result"
    }
   ],
   "source": [
    "kiwi.split_into_sents(\"여러 문장으로 구성된 텍스트네 이걸 분리해줘\", return_tokens=True)"
   ]
  },
  {
   "cell_type": "markdown",
   "id": "08dd5f27",
   "metadata": {},
   "source": [
    "## (4) 신규 단어 추가하기"
   ]
  },
  {
   "cell_type": "code",
   "execution_count": 74,
   "id": "58d98223",
   "metadata": {},
   "outputs": [
    {
     "data": {
      "text/plain": [
       "[Token(form='뉴진스', tag='NNP', start=0, len=3),\n",
       " Token(form='의', tag='JKG', start=3, len=1),\n",
       " Token(form='하입보', tag='NNP', start=5, len=3),\n",
       " Token(form='이', tag='JKS', start=8, len=1),\n",
       " Token(form='듣', tag='VV-I', start=10, len=1),\n",
       " Token(form='고', tag='EC', start=11, len=1),\n",
       " Token(form='있', tag='VX', start=13, len=1),\n",
       " Token(form='어요', tag='EF', start=14, len=2)]"
      ]
     },
     "execution_count": 74,
     "metadata": {},
     "output_type": "execute_result"
    }
   ],
   "source": [
    "### 신규단어 추가 전(뉴진스, 하입보이)\n",
    "kiwi.tokenize('뉴진스의 하입보이 듣고 있어요')"
   ]
  },
  {
   "cell_type": "code",
   "execution_count": 75,
   "id": "21d2c7d5",
   "metadata": {},
   "outputs": [
    {
     "data": {
      "text/plain": [
       "True"
      ]
     },
     "execution_count": 75,
     "metadata": {},
     "output_type": "execute_result"
    }
   ],
   "source": [
    "kiwi.add_user_word('뉴진스','NNP')\n",
    "kiwi.add_user_word('하입보이','NNP')"
   ]
  },
  {
   "cell_type": "code",
   "execution_count": 76,
   "id": "e69a1abf",
   "metadata": {},
   "outputs": [
    {
     "data": {
      "text/plain": [
       "[Token(form='뉴진스', tag='NNP', start=0, len=3),\n",
       " Token(form='의', tag='JKG', start=3, len=1),\n",
       " Token(form='하입보이', tag='NNP', start=5, len=4),\n",
       " Token(form='듣', tag='VV-I', start=10, len=1),\n",
       " Token(form='고', tag='EC', start=11, len=1),\n",
       " Token(form='있', tag='VX', start=13, len=1),\n",
       " Token(form='어요', tag='EF', start=14, len=2)]"
      ]
     },
     "execution_count": 76,
     "metadata": {},
     "output_type": "execute_result"
    }
   ],
   "source": [
    "### 신규단어 추가 후(뉴진스, 하입보이)\n",
    "kiwi.tokenize('뉴진스의 하입보이 듣고 있어요')"
   ]
  },
  {
   "cell_type": "code",
   "execution_count": 77,
   "id": "f56d449f",
   "metadata": {},
   "outputs": [
    {
     "data": {
      "text/plain": [
       "[Token(form='팅', tag='NNG', start=0, len=1),\n",
       " Token(form='기', tag='VV', start=1, len=1),\n",
       " Token(form='었', tag='EP', start=1, len=1),\n",
       " Token(form='다', tag='EF', start=2, len=1)]"
      ]
     },
     "execution_count": 77,
     "metadata": {},
     "output_type": "execute_result"
    }
   ],
   "source": [
    "# v0.11.0 신기능\n",
    "# 0.11.0 버전부터는 사용자 사전에 동사/형용사를 추가할 때, 그 활용형도 함께 등재됩니다.\n",
    "# 사전에 등재되어 있지 않은 동사 `팅기다`를 분석하면, 엉뚱한 결과가 나옵니다.\n",
    "kiwi.tokenize('팅겼다')"
   ]
  },
  {
   "cell_type": "code",
   "execution_count": 78,
   "id": "a46a9619",
   "metadata": {},
   "outputs": [
    {
     "data": {
      "text/plain": [
       "True"
      ]
     },
     "execution_count": 78,
     "metadata": {},
     "output_type": "execute_result"
    }
   ],
   "source": [
    "# 형태소 `팅기/VV`를 사전에 등록하면, 이 형태소의 모든 활용형이 자동으로 추가되기에\n",
    "# `팅겼다`, `팅길` 등의 형태를 모두 분석해낼 수 있습니다.\n",
    "kiwi.add_user_word('팅기', 'VV')"
   ]
  },
  {
   "cell_type": "code",
   "execution_count": 79,
   "id": "870913cd",
   "metadata": {},
   "outputs": [
    {
     "data": {
      "text/plain": [
       "[Token(form='팅기', tag='VV', start=0, len=2),\n",
       " Token(form='었', tag='EP', start=1, len=1),\n",
       " Token(form='다', tag='EF', start=2, len=1)]"
      ]
     },
     "execution_count": 79,
     "metadata": {},
     "output_type": "execute_result"
    }
   ],
   "source": [
    "kiwi.tokenize('팅겼다')"
   ]
  },
  {
   "cell_type": "markdown",
   "id": "70c1147e",
   "metadata": {},
   "source": [
    "### (5) 띄어쓰기 교정하기"
   ]
  },
  {
   "cell_type": "code",
   "execution_count": 80,
   "id": "70435523",
   "metadata": {},
   "outputs": [
    {
     "data": {
      "text/plain": [
       "'생각이 많은 건 말이야. 당연히 해야 할 일이야. 나에겐 우리가 지금 1순위야. 안전한 유리병을 핑계로 바람을 가둬 둔 것 같지만. 기억나? 그날의 우리가 잡았던 그 손엔 말이야. 설레임보다 커다란 믿음이 담겨서 난 함박웃음을 지었지만 울음이 날 것도 같았어. 소중한 건 언제나 두려움이니까. 문을 열면 들리던 목소리. 너로 인해 변해있던 따뜻한 공기. 여전히 자신 없지만 안녕히. 저기, 사라진 별의 자리 아스라이 하얀 빛 한동안은 꺼내 볼 수 있을 거야. 아낌없이 반짝인 시간은 조금씩 옅어져 가더라도 너와 내 맘에 살아 숨 쉴 테니. 여긴, 서로의 끝이 아닌 새로운 길 모퉁이. 익숙함에 진심을 속이지 말자. 하나 둘 추억이 떠오르면 많이 많이 그리워할 거야. 고마웠어요 그래도 이제는 사건의 지평선 너머로.'"
      ]
     },
     "execution_count": 80,
     "metadata": {},
     "output_type": "execute_result"
    }
   ],
   "source": [
    "my_str"
   ]
  },
  {
   "cell_type": "code",
   "execution_count": 81,
   "id": "1affa218",
   "metadata": {},
   "outputs": [
    {
     "data": {
      "text/plain": [
       "'생각이많은건말이야.당연히해야할일이야.나에겐우리가지금1순위야.안전한유리병을핑계로바람을가둬둔것같지만.기억나?그날의우리가잡았던그손엔말이야.설레임보다커다란믿음이담겨서난함박웃음을지었지만울음이날것도같았어.소중한건언제나두려움이니까.문을열면들리던목소리.너로인해변해있던따뜻한공기.여전히자신없지만안녕히.저기,사라진별의자리아스라이하얀빛한동안은꺼내볼수있을거야.아낌없이반짝인시간은조금씩옅어져가더라도너와내맘에살아숨쉴테니.여긴,서로의끝이아닌새로운길모퉁이.익숙함에진심을속이지말자.하나둘추억이떠오르면많이많이그리워할거야.고마웠어요그래도이제는사건의지평선너머로.'"
      ]
     },
     "execution_count": 81,
     "metadata": {},
     "output_type": "execute_result"
    }
   ],
   "source": [
    "# 띄어쓰기를 제거한 문자열을 억지로 만들어봅시다\n",
    "my_str2 = my_str.replace(' ', '')\n",
    "my_str2"
   ]
  },
  {
   "cell_type": "code",
   "execution_count": 83,
   "id": "6bd19ef7",
   "metadata": {},
   "outputs": [
    {
     "data": {
      "text/plain": [
       "'생각이 많은 건 말이야. 당연히 해야할 일이야. 나에겐 우리가 지금 1 순위야. 안 전한 유리병을 핑계로 바람을 가둬 둔 것 같지만. 기억나? 그 날의 우리가 잡았던 그 손엔 말이야. 설레임보다 커다란 믿음이 담겨서 난 함박웃음을 지었지만 울음이 날 것도 같았어. 소중한 건 언제나 두려움이니까. 문을 열면 들리던 목소리. 너로 인해 변해 있던 따뜻한 공기. 여전히 자신 없지만 안녕히. 저기, 사라진 별의 자리 아스라이 하얀 빛 한동안은 꺼내 볼 수 있을 거야. 아낌없이 반짝인 시간은 조금씩 옅어져 가더라도 너와 내 맘에 살아 숨 쉴 테니. 여긴, 서로의 끝이 아닌 새로운 길모퉁이. 익숙함에 진심을 속이지 말자. 하나 둘 추억이 떠오르면 많이 많이 그리워할거야. 고마웠어요 그래도 이제는 사건의 지평선 너머로.'"
      ]
     },
     "execution_count": 83,
     "metadata": {},
     "output_type": "execute_result"
    }
   ],
   "source": [
    "# 띄어쓰기를 교정하면 어떤 결과가 나올까요?\n",
    "kiwi.space(my_str2)"
   ]
  },
  {
   "cell_type": "code",
   "execution_count": null,
   "id": "d9c8424c",
   "metadata": {},
   "outputs": [],
   "source": []
  }
 ],
 "metadata": {
  "kernelspec": {
   "display_name": "Python 3 (ipykernel)",
   "language": "python",
   "name": "python3"
  },
  "language_info": {
   "codemirror_mode": {
    "name": "ipython",
    "version": 3
   },
   "file_extension": ".py",
   "mimetype": "text/x-python",
   "name": "python",
   "nbconvert_exporter": "python",
   "pygments_lexer": "ipython3",
   "version": "3.10.9"
  }
 },
 "nbformat": 4,
 "nbformat_minor": 5
}
