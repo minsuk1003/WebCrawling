{
 "cells": [
  {
   "cell_type": "code",
   "execution_count": 227,
   "id": "1caf6160",
   "metadata": {},
   "outputs": [],
   "source": [
    "import requests\n",
    "from bs4 import BeautifulSoup\n",
    "import re\n",
    "import pandas as pd\n",
    "from datetime import datetime, timedelta\n",
    "import time\n",
    "import csv\n",
    "from tqdm import tqdm\n",
    "tqdm.pandas()"
   ]
  },
  {
   "cell_type": "markdown",
   "id": "0c7b0403",
   "metadata": {},
   "source": [
    "## 1. 네이버 뉴스 10개 기사 수집, 전처리 후 저장"
   ]
  },
  {
   "cell_type": "code",
   "execution_count": 228,
   "id": "6d3484bb",
   "metadata": {},
   "outputs": [],
   "source": [
    "u = 'https://news.naver.com/main/main.naver?mode=LSD&mid=shm&sid1=101'\n",
    "headers = {'user-agent' : 'Mozilla/5.0 (Windows NT 10.0; Win64; x64) AppleWebKit/537.36 (KHTML, like Gecko) Chrome/116.0.0.0 Safari/537.36'}\n",
    "try:\n",
    "    rs = requests.get(u, headers=headers)\n",
    "except:\n",
    "    print('RETRY-TIME ERROR!')\n",
    "    time.sleep(3)\n",
    "    rs = requests.get(u, headers=headers)\n",
    "    \n",
    "if rs.status_code != 200:\n",
    "    print('CONTENT REQUEST FAILED! : ', u)\n",
    "    \"REQUEST_ERROR\"\n",
    "rs.encoding = 'EUC-KR' # html의 인코딩 방식 확인하기\n",
    "soup = BeautifulSoup(rs.text, 'html.parser')"
   ]
  },
  {
   "cell_type": "code",
   "execution_count": 229,
   "id": "f629a200",
   "metadata": {},
   "outputs": [],
   "source": [
    "urls = []\n",
    "for i in range(1,11):\n",
    "    url = soup.select_one(f'#main_content > div > div._persist > div.section_headline > ul > li:nth-child({i}) > div.sh_text > a').get_attribute_list('href')[0]\n",
    "    urls.append(url)\n",
    "\n",
    "f = open('20231002.csv','w', newline='')\n",
    "wtr = csv.writer(f)\n",
    "wtr.writerow(['언론사', '기사제목', '기사본문'])\n",
    "\n",
    "for url in urls:    \n",
    "    rs = requests.get(url, headers=headers)\n",
    "    rs.encoding = 'UTF-8' # html의 인코딩 방식 확인하기\n",
    "    soup = BeautifulSoup(rs.text, 'html.parser')\n",
    "    company = soup.select_one('#ct > div.media_end_head.go_trans > div.media_end_head_top > a > img').get_attribute_list('title')[0]\n",
    "    title = soup.select_one('#ct > div.media_end_head.go_trans > div.media_end_head_title').text\n",
    "    content = soup.select_one('#newsct_article')\n",
    "    if content != None:\n",
    "        for i in content.find_all('span'):\n",
    "            i.decompose()\n",
    "        content = content.text\n",
    "    title = re.sub('[^A-Za-z0-9가-힣]', ' ', title)\n",
    "    content = re.sub('[^A-Za-z0-9가-힣]', ' ', content)\n",
    "    wtr.writerow([company, title, content])\n",
    "    \n",
    "f.close()"
   ]
  },
  {
   "cell_type": "markdown",
   "id": "961e5992",
   "metadata": {},
   "source": [
    "## 2. 기사 댓글 수 수집"
   ]
  },
  {
   "cell_type": "code",
   "execution_count": 230,
   "id": "98e3ca35",
   "metadata": {},
   "outputs": [],
   "source": [
    "df = pd.read_csv('20231002.csv', encoding='cp949')"
   ]
  },
  {
   "cell_type": "code",
   "execution_count": 231,
   "id": "1663cb1f",
   "metadata": {},
   "outputs": [],
   "source": [
    "from selenium import webdriver\n",
    "from selenium.webdriver.common.by import By\n",
    "options = webdriver.ChromeOptions()\n",
    "# options.add_argument('headless') #웹페이지 띄우지 않기\n",
    "drive = webdriver.Chrome(options=options)"
   ]
  },
  {
   "cell_type": "code",
   "execution_count": 232,
   "id": "d6a75425",
   "metadata": {},
   "outputs": [],
   "source": [
    "comment_counts = []\n",
    "for url in urls:\n",
    "    drive.implicitly_wait(10)\n",
    "    drive.get(url)\n",
    "    comment_count = drive.find_element(By.CLASS_NAME, 'u_cbox_count').text\n",
    "    comment_counts.append(comment_count)\n",
    "\n",
    "df['댓글 수'] = comment_counts"
   ]
  },
  {
   "cell_type": "code",
   "execution_count": 233,
   "id": "a8352476",
   "metadata": {},
   "outputs": [
    {
     "data": {
      "text/html": [
       "<div>\n",
       "<style scoped>\n",
       "    .dataframe tbody tr th:only-of-type {\n",
       "        vertical-align: middle;\n",
       "    }\n",
       "\n",
       "    .dataframe tbody tr th {\n",
       "        vertical-align: top;\n",
       "    }\n",
       "\n",
       "    .dataframe thead th {\n",
       "        text-align: right;\n",
       "    }\n",
       "</style>\n",
       "<table border=\"1\" class=\"dataframe\">\n",
       "  <thead>\n",
       "    <tr style=\"text-align: right;\">\n",
       "      <th></th>\n",
       "      <th>언론사</th>\n",
       "      <th>기사제목</th>\n",
       "      <th>기사본문</th>\n",
       "      <th>댓글 수</th>\n",
       "    </tr>\n",
       "  </thead>\n",
       "  <tbody>\n",
       "    <tr>\n",
       "      <th>0</th>\n",
       "      <td>MBC</td>\n",
       "      <td>엔 달러 환율  150엔 돌파 직후 급락    시장개입 가능성</td>\n",
       "      <td>엔 달러 환율이 현지시간 3일 미국 뉴욕 외환시장에서 장중 한때 달러당 150 ...</td>\n",
       "      <td>1</td>\n",
       "    </tr>\n",
       "    <tr>\n",
       "      <th>1</th>\n",
       "      <td>한국경제TV</td>\n",
       "      <td>또 올랐다 경유값 1 700원 돌파</td>\n",
       "      <td>국내 주유소 경유 판매 가격이 약 9개월 만에 L 리터 당 1천700원을 돌파했...</td>\n",
       "      <td>0</td>\n",
       "    </tr>\n",
       "    <tr>\n",
       "      <th>2</th>\n",
       "      <td>파이낸셜뉴스</td>\n",
       "      <td>부채 늪 에 빠진 자영업자  대출연체 7조원 넘었다  사상 최대</td>\n",
       "      <td>올 2분기 자영업 대출잔액 1043조 돌파 같은기간 원리금 연체 1조 늘어  빨...</td>\n",
       "      <td>27</td>\n",
       "    </tr>\n",
       "    <tr>\n",
       "      <th>3</th>\n",
       "      <td>한국경제</td>\n",
       "      <td>현대차  야심작  아이오닉 7  내년 7월 출격 어떻게 나올까  배성수의 다다IT선</td>\n",
       "      <td>배성수의 다다IT선 137회현대차 아산공장서 내년 7월 아이오닉7 양산미래 자...</td>\n",
       "      <td>69</td>\n",
       "    </tr>\n",
       "    <tr>\n",
       "      <th>4</th>\n",
       "      <td>경향신문</td>\n",
       "      <td>정부  전월세 계약 신고할 때  공인중개사 인적 정보  기재 의무화 추진</td>\n",
       "      <td>전월세 계약을 신고할 때 계약을 중개한 공인중개사의 인적 정보를 의무적으로...</td>\n",
       "      <td>4</td>\n",
       "    </tr>\n",
       "    <tr>\n",
       "      <th>5</th>\n",
       "      <td>노컷뉴스</td>\n",
       "      <td>단독  전세사기  심각한데 급증하는 보증보험 지급 거절</td>\n",
       "      <td>HUG 5년간 지급 거절 182건 거절 금액만 359억 8300만 원올해  사기...</td>\n",
       "      <td>14</td>\n",
       "    </tr>\n",
       "    <tr>\n",
       "      <th>6</th>\n",
       "      <td>뉴스1</td>\n",
       "      <td>8월 생산  30개월 만에 최대폭   경기 반등 조짐 확대  종합2보</td>\n",
       "      <td>산업활동동향 생산 2 2  투자 3 6    소매판매는 0 3   광공업 생산 ...</td>\n",
       "      <td>3</td>\n",
       "    </tr>\n",
       "    <tr>\n",
       "      <th>7</th>\n",
       "      <td>경향신문</td>\n",
       "      <td>속보 원 달러 11개월만에 1360원 돌파   달러강세에 급등</td>\n",
       "      <td>원 달러 환율이 연휴를 마치고 장 초반 10원 이상 급등해 1360원선을 돌파했...</td>\n",
       "      <td>174</td>\n",
       "    </tr>\n",
       "    <tr>\n",
       "      <th>8</th>\n",
       "      <td>아시아경제</td>\n",
       "      <td>SK에코플랜트   인천공항공사와 업무협약 인천공항 폐기물 재활용한다</td>\n",
       "      <td>SK에코플랜트는 인천국제공항공사와 함께  인천공항 자원순환경제 구축을 위한...</td>\n",
       "      <td>0</td>\n",
       "    </tr>\n",
       "    <tr>\n",
       "      <th>9</th>\n",
       "      <td>뉴스1</td>\n",
       "      <td>해수부   제30회 부산 자갈치 축제 서 수산물 안전 홍보 시식행사 진행</td>\n",
       "      <td>숙성 광어  회 도시락  시식행사  수산물 요리법 책자 안전 홍보물 배포 세종 ...</td>\n",
       "      <td>0</td>\n",
       "    </tr>\n",
       "  </tbody>\n",
       "</table>\n",
       "</div>"
      ],
      "text/plain": [
       "      언론사                                               기사제목  \\\n",
       "0     MBC               엔 달러 환율  150엔 돌파 직후 급락    시장개입 가능성     \n",
       "1  한국경제TV                               또 올랐다 경유값 1 700원 돌파    \n",
       "2  파이낸셜뉴스              부채 늪 에 빠진 자영업자  대출연체 7조원 넘었다  사상 최대     \n",
       "3    한국경제   현대차  야심작  아이오닉 7  내년 7월 출격 어떻게 나올까  배성수의 다다IT선     \n",
       "4    경향신문          정부  전월세 계약 신고할 때  공인중개사 인적 정보  기재 의무화 추진    \n",
       "5    노컷뉴스                    단독  전세사기  심각한데 급증하는 보증보험 지급 거절    \n",
       "6     뉴스1           8월 생산  30개월 만에 최대폭   경기 반등 조짐 확대  종합2보     \n",
       "7    경향신문                속보 원 달러 11개월만에 1360원 돌파   달러강세에 급등    \n",
       "8   아시아경제             SK에코플랜트   인천공항공사와 업무협약 인천공항 폐기물 재활용한다    \n",
       "9     뉴스1          해수부   제30회 부산 자갈치 축제 서 수산물 안전 홍보 시식행사 진행    \n",
       "\n",
       "                                                기사본문 댓글 수  \n",
       "0    엔 달러 환율이 현지시간 3일 미국 뉴욕 외환시장에서 장중 한때 달러당 150 ...    1  \n",
       "1    국내 주유소 경유 판매 가격이 약 9개월 만에 L 리터 당 1천700원을 돌파했...    0  \n",
       "2    올 2분기 자영업 대출잔액 1043조 돌파 같은기간 원리금 연체 1조 늘어  빨...   27  \n",
       "3     배성수의 다다IT선 137회현대차 아산공장서 내년 7월 아이오닉7 양산미래 자...   69  \n",
       "4       전월세 계약을 신고할 때 계약을 중개한 공인중개사의 인적 정보를 의무적으로...    4  \n",
       "5    HUG 5년간 지급 거절 182건 거절 금액만 359억 8300만 원올해  사기...   14  \n",
       "6    산업활동동향 생산 2 2  투자 3 6    소매판매는 0 3   광공업 생산 ...    3  \n",
       "7    원 달러 환율이 연휴를 마치고 장 초반 10원 이상 급등해 1360원선을 돌파했...  174  \n",
       "8       SK에코플랜트는 인천국제공항공사와 함께  인천공항 자원순환경제 구축을 위한...    0  \n",
       "9    숙성 광어  회 도시락  시식행사  수산물 요리법 책자 안전 홍보물 배포 세종 ...    0  "
      ]
     },
     "execution_count": 233,
     "metadata": {},
     "output_type": "execute_result"
    }
   ],
   "source": [
    "df"
   ]
  },
  {
   "cell_type": "code",
   "execution_count": 234,
   "id": "e1a0e338",
   "metadata": {},
   "outputs": [],
   "source": [
    "df.to_csv('20231002.csv', index=False)"
   ]
  },
  {
   "cell_type": "code",
   "execution_count": null,
   "id": "ba1045f9",
   "metadata": {},
   "outputs": [],
   "source": []
  }
 ],
 "metadata": {
  "kernelspec": {
   "display_name": "Python 3 (ipykernel)",
   "language": "python",
   "name": "python3"
  },
  "language_info": {
   "codemirror_mode": {
    "name": "ipython",
    "version": 3
   },
   "file_extension": ".py",
   "mimetype": "text/x-python",
   "name": "python",
   "nbconvert_exporter": "python",
   "pygments_lexer": "ipython3",
   "version": "3.10.9"
  }
 },
 "nbformat": 4,
 "nbformat_minor": 5
}
